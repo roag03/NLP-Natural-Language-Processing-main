{
 "cells": [
  {
   "cell_type": "code",
   "execution_count": 2,
   "metadata": {},
   "outputs": [],
   "source": [
    "import re"
   ]
  },
  {
   "cell_type": "code",
   "execution_count": 3,
   "metadata": {},
   "outputs": [],
   "source": [
    "Chat1 ='''\n",
    "6/28/21, 9:44 PM - Vanshika B: Mera bnda hai\n",
    "6/28/21, 9:44 PM - Vanshika B: I know\n",
    "6/28/21, 9:45 PM - Vanshika B: Aur woh hi rhega\n",
    "6/28/21, 9:45 PM - Vanshika B: Mere se\n",
    "6/28/21, 9:45 PM - Vanshika B: Pooch leta ek baar\n",
    "6/28/21, 9:45 PM - Vanshika B: Ladai krwa ke kisi ke relationship is not cool\n",
    "'''\n",
    "chat2 = '''\n",
    "6/28/21, 9:45 PM - 𝐀𝐤𝐬𝐡𝐚𝐭🔱: That's great\n",
    "6/28/21, 9:45 PM - 𝐀𝐤𝐬𝐡𝐚𝐭🔱: Agar itni si baat par relationship me ladai hori hai to it isn't worth it\n",
    "'''"
   ]
  },
  {
   "cell_type": "code",
   "execution_count": 4,
   "metadata": {},
   "outputs": [
    {
     "data": {
      "text/plain": "['6', '28', '21', '9', '45', '6', '28', '21', '9', '45']"
     },
     "execution_count": 4,
     "metadata": {},
     "output_type": "execute_result"
    }
   ],
   "source": [
    "pattern = '\\d{2}|\\d{1}'\n",
    "matches = re.findall(pattern, chat2)\n",
    "matches\n"
   ]
  },
  {
   "cell_type": "code",
   "execution_count": 9,
   "metadata": {},
   "outputs": [
    {
     "data": {
      "text/plain": "['xxxx234XXX@yyy.com', ' QQQ123WWWw@yyyy.com']"
     },
     "execution_count": 9,
     "metadata": {},
     "output_type": "execute_result"
    }
   ],
   "source": [
    "email = \"xxxx234XXX@yyy.com, 7891235679, QQQ123WWWw@yyyy.com\"\n",
    "npattern = \"[a-z 0-9 A-Z_]*@[a-z 0-9 A-Z]*\\.[a-z A-Z]*\"\n",
    "matches = re.findall(npattern, email)\n",
    "matches"
   ]
  },
  {
   "cell_type": "code",
   "execution_count": 12,
   "metadata": {},
   "outputs": [],
   "source": [
    "def getmatches(pattern, text):\n",
    "    matches = re.findall(pattern,text)\n",
    "    if matches:\n",
    "        return matches"
   ]
  },
  {
   "cell_type": "code",
   "execution_count": 13,
   "metadata": {},
   "outputs": [
    {
     "data": {
      "text/plain": "['xxxx234XXX@yyy.com', ' QQQ123WWWw@yyyy.com']"
     },
     "execution_count": 13,
     "metadata": {},
     "output_type": "execute_result"
    }
   ],
   "source": [
    "getmatches(npattern, email)"
   ]
  },
  {
   "cell_type": "code",
   "execution_count": 14,
   "metadata": {},
   "outputs": [],
   "source": [
    "#The tesla Information"
   ]
  },
  {
   "cell_type": "code",
   "execution_count": null,
   "metadata": {},
   "outputs": [],
   "source": []
  }
 ],
 "metadata": {
  "kernelspec": {
   "display_name": "Python 3.10.5 64-bit",
   "name": "python3105jvsc74a57bd098590ff4fe04c8543246b2a01debd3de3c5ca9b666f43f1fa87d5110c692004c"
  },
  "language_info": {
   "codemirror_mode": {
    "name": "ipython",
    "version": 3
   },
   "file_extension": ".py",
   "mimetype": "text/x-python",
   "name": "python",
   "nbconvert_exporter": "python",
   "pygments_lexer": "ipython3",
   "version": "3.10.5"
  },
  "orig_nbformat": 2
 },
 "nbformat": 4,
 "nbformat_minor": 2
}